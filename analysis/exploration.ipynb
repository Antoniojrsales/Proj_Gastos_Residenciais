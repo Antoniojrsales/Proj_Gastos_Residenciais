{
 "cells": [
  {
   "cell_type": "code",
   "execution_count": 1,
   "id": "50c77bc5",
   "metadata": {},
   "outputs": [],
   "source": [
    "#Bibliotecas\n",
    "import pandas as pd\n",
    "import numpy as np\n",
    "import matplotlib.pyplot as plt\n",
    "import plotly.express as px\n",
    "from dotenv import load_dotenv\n",
    "import os"
   ]
  },
  {
   "cell_type": "markdown",
   "id": "78da7dd6",
   "metadata": {},
   "source": [
    "✅ Checklist de Exploração"
   ]
  },
  {
   "cell_type": "markdown",
   "id": "088422c8",
   "metadata": {},
   "source": [
    "1. **Visão Geral**"
   ]
  },
  {
   "cell_type": "code",
   "execution_count": 2,
   "id": "2763f013",
   "metadata": {},
   "outputs": [
    {
     "name": "stdout",
     "output_type": "stream",
     "text": [
      "Conectado ao Google Sheets com sucesso.\n"
     ]
    }
   ],
   "source": [
    "#Criando a conexao com a planilha do google\n",
    "try:\n",
    "    load_dotenv()  # Carrega as variáveis do .env\n",
    "    sheet_id = os.getenv('SHEET_ID')\n",
    "    sheet_name = os.getenv('SHEET_NAME')\n",
    "    url = f'https://docs.google.com/spreadsheets/d/{sheet_id}/gviz/tq?tqx=out:csv&sheet={sheet_name}'\n",
    "    print('Conectado ao Google Sheets com sucesso.')\n",
    "except Exception as e:\n",
    "    print(f\"Erro ao conectar com o Google Sheets: {e}\")\n"
   ]
  },
  {
   "cell_type": "code",
   "execution_count": 3,
   "id": "e8e388e9",
   "metadata": {},
   "outputs": [],
   "source": [
    "#Transformando os dados em um DataFrame\n",
    "df_dados = pd.read_csv(url)"
   ]
  },
  {
   "cell_type": "code",
   "execution_count": 4,
   "id": "7201b8e9",
   "metadata": {},
   "outputs": [
    {
     "data": {
      "text/html": [
       "<style type=\"text/css\">\n",
       "</style>\n",
       "<table id=\"T_55cf9\">\n",
       "  <caption>Primeiras 5 linhas do dataset</caption>\n",
       "  <thead>\n",
       "    <tr>\n",
       "      <th class=\"blank level0\" >&nbsp;</th>\n",
       "      <th id=\"T_55cf9_level0_col0\" class=\"col_heading level0 col0\" >Data</th>\n",
       "      <th id=\"T_55cf9_level0_col1\" class=\"col_heading level0 col1\" >Tipo Receita/Despesa</th>\n",
       "      <th id=\"T_55cf9_level0_col2\" class=\"col_heading level0 col2\" >Valor</th>\n",
       "    </tr>\n",
       "  </thead>\n",
       "  <tbody>\n",
       "    <tr>\n",
       "      <th id=\"T_55cf9_level0_row0\" class=\"row_heading level0 row0\" >0</th>\n",
       "      <td id=\"T_55cf9_row0_col0\" class=\"data row0 col0\" >01/01/25</td>\n",
       "      <td id=\"T_55cf9_row0_col1\" class=\"data row0 col1\" >Receita</td>\n",
       "      <td id=\"T_55cf9_row0_col2\" class=\"data row0 col2\" >R$ 150,00</td>\n",
       "    </tr>\n",
       "    <tr>\n",
       "      <th id=\"T_55cf9_level0_row1\" class=\"row_heading level0 row1\" >1</th>\n",
       "      <td id=\"T_55cf9_row1_col0\" class=\"data row1 col0\" >02/01/25</td>\n",
       "      <td id=\"T_55cf9_row1_col1\" class=\"data row1 col1\" >Receita</td>\n",
       "      <td id=\"T_55cf9_row1_col2\" class=\"data row1 col2\" >R$ 120,00</td>\n",
       "    </tr>\n",
       "    <tr>\n",
       "      <th id=\"T_55cf9_level0_row2\" class=\"row_heading level0 row2\" >2</th>\n",
       "      <td id=\"T_55cf9_row2_col0\" class=\"data row2 col0\" >02/01/25</td>\n",
       "      <td id=\"T_55cf9_row2_col1\" class=\"data row2 col1\" >Despesa Moto</td>\n",
       "      <td id=\"T_55cf9_row2_col2\" class=\"data row2 col2\" >R$ 30,00</td>\n",
       "    </tr>\n",
       "    <tr>\n",
       "      <th id=\"T_55cf9_level0_row3\" class=\"row_heading level0 row3\" >3</th>\n",
       "      <td id=\"T_55cf9_row3_col0\" class=\"data row3 col0\" >02/01/25</td>\n",
       "      <td id=\"T_55cf9_row3_col1\" class=\"data row3 col1\" >Despesa Combustivel</td>\n",
       "      <td id=\"T_55cf9_row3_col2\" class=\"data row3 col2\" >R$ 25,00</td>\n",
       "    </tr>\n",
       "    <tr>\n",
       "      <th id=\"T_55cf9_level0_row4\" class=\"row_heading level0 row4\" >4</th>\n",
       "      <td id=\"T_55cf9_row4_col0\" class=\"data row4 col0\" >02/01/25</td>\n",
       "      <td id=\"T_55cf9_row4_col1\" class=\"data row4 col1\" >Despesa Remedio</td>\n",
       "      <td id=\"T_55cf9_row4_col2\" class=\"data row4 col2\" >R$ 65,00</td>\n",
       "    </tr>\n",
       "  </tbody>\n",
       "</table>\n"
      ],
      "text/plain": [
       "<pandas.io.formats.style.Styler at 0x13ef803fc10>"
      ]
     },
     "execution_count": 4,
     "metadata": {},
     "output_type": "execute_result"
    }
   ],
   "source": [
    "df_dados.head().style.set_caption(\"Primeiras 5 linhas do dataset\")"
   ]
  },
  {
   "cell_type": "code",
   "execution_count": 6,
   "id": "c453b897",
   "metadata": {},
   "outputs": [
    {
     "data": {
      "text/html": [
       "<style type=\"text/css\">\n",
       "</style>\n",
       "<table id=\"T_c15ba\">\n",
       "  <caption>5 linhas de amostras aleatorias do dataset</caption>\n",
       "  <thead>\n",
       "    <tr>\n",
       "      <th class=\"blank level0\" >&nbsp;</th>\n",
       "      <th id=\"T_c15ba_level0_col0\" class=\"col_heading level0 col0\" >Data</th>\n",
       "      <th id=\"T_c15ba_level0_col1\" class=\"col_heading level0 col1\" >Tipo Receita/Despesa</th>\n",
       "      <th id=\"T_c15ba_level0_col2\" class=\"col_heading level0 col2\" >Valor</th>\n",
       "    </tr>\n",
       "  </thead>\n",
       "  <tbody>\n",
       "    <tr>\n",
       "      <th id=\"T_c15ba_level0_row0\" class=\"row_heading level0 row0\" >51</th>\n",
       "      <td id=\"T_c15ba_row0_col0\" class=\"data row0 col0\" >23/01/25</td>\n",
       "      <td id=\"T_c15ba_row0_col1\" class=\"data row0 col1\" >Despesa Combustivel</td>\n",
       "      <td id=\"T_c15ba_row0_col2\" class=\"data row0 col2\" >R$ 25,00</td>\n",
       "    </tr>\n",
       "    <tr>\n",
       "      <th id=\"T_c15ba_level0_row1\" class=\"row_heading level0 row1\" >37</th>\n",
       "      <td id=\"T_c15ba_row1_col0\" class=\"data row1 col0\" >16/01/25</td>\n",
       "      <td id=\"T_c15ba_row1_col1\" class=\"data row1 col1\" >Despesa Combustivel</td>\n",
       "      <td id=\"T_c15ba_row1_col2\" class=\"data row1 col2\" >R$ 10,00</td>\n",
       "    </tr>\n",
       "    <tr>\n",
       "      <th id=\"T_c15ba_level0_row2\" class=\"row_heading level0 row2\" >134</th>\n",
       "      <td id=\"T_c15ba_row2_col0\" class=\"data row2 col0\" >05/03/25</td>\n",
       "      <td id=\"T_c15ba_row2_col1\" class=\"data row2 col1\" >Despesa Combustivel</td>\n",
       "      <td id=\"T_c15ba_row2_col2\" class=\"data row2 col2\" >R$ 25,00</td>\n",
       "    </tr>\n",
       "    <tr>\n",
       "      <th id=\"T_c15ba_level0_row3\" class=\"row_heading level0 row3\" >154</th>\n",
       "      <td id=\"T_c15ba_row3_col0\" class=\"data row3 col0\" >15/03/25</td>\n",
       "      <td id=\"T_c15ba_row3_col1\" class=\"data row3 col1\" >Receita</td>\n",
       "      <td id=\"T_c15ba_row3_col2\" class=\"data row3 col2\" >R$ 75,00</td>\n",
       "    </tr>\n",
       "    <tr>\n",
       "      <th id=\"T_c15ba_level0_row4\" class=\"row_heading level0 row4\" >17</th>\n",
       "      <td id=\"T_c15ba_row4_col0\" class=\"data row4 col0\" >09/01/25</td>\n",
       "      <td id=\"T_c15ba_row4_col1\" class=\"data row4 col1\" >Receita</td>\n",
       "      <td id=\"T_c15ba_row4_col2\" class=\"data row4 col2\" >R$ 120,00</td>\n",
       "    </tr>\n",
       "  </tbody>\n",
       "</table>\n"
      ],
      "text/plain": [
       "<pandas.io.formats.style.Styler at 0x13ef8c917d0>"
      ]
     },
     "execution_count": 6,
     "metadata": {},
     "output_type": "execute_result"
    }
   ],
   "source": [
    "df_dados.sample(5).style.set_caption(\"5 linhas de amostras aleatorias do dataset\")"
   ]
  },
  {
   "cell_type": "code",
   "execution_count": 7,
   "id": "470851f2",
   "metadata": {},
   "outputs": [
    {
     "data": {
      "text/html": [
       "<style type=\"text/css\">\n",
       "</style>\n",
       "<table id=\"T_23261\">\n",
       "  <caption>Ultimas 5 linhas do dataset</caption>\n",
       "  <thead>\n",
       "    <tr>\n",
       "      <th class=\"blank level0\" >&nbsp;</th>\n",
       "      <th id=\"T_23261_level0_col0\" class=\"col_heading level0 col0\" >Data</th>\n",
       "      <th id=\"T_23261_level0_col1\" class=\"col_heading level0 col1\" >Tipo Receita/Despesa</th>\n",
       "      <th id=\"T_23261_level0_col2\" class=\"col_heading level0 col2\" >Valor</th>\n",
       "    </tr>\n",
       "  </thead>\n",
       "  <tbody>\n",
       "    <tr>\n",
       "      <th id=\"T_23261_level0_row0\" class=\"row_heading level0 row0\" >152</th>\n",
       "      <td id=\"T_23261_row0_col0\" class=\"data row0 col0\" >14/03/25</td>\n",
       "      <td id=\"T_23261_row0_col1\" class=\"data row0 col1\" >Receita</td>\n",
       "      <td id=\"T_23261_row0_col2\" class=\"data row0 col2\" >R$ 70,00</td>\n",
       "    </tr>\n",
       "    <tr>\n",
       "      <th id=\"T_23261_level0_row1\" class=\"row_heading level0 row1\" >153</th>\n",
       "      <td id=\"T_23261_row1_col0\" class=\"data row1 col0\" >14/03/25</td>\n",
       "      <td id=\"T_23261_row1_col1\" class=\"data row1 col1\" >Despesa Combustivel</td>\n",
       "      <td id=\"T_23261_row1_col2\" class=\"data row1 col2\" >R$ 20,00</td>\n",
       "    </tr>\n",
       "    <tr>\n",
       "      <th id=\"T_23261_level0_row2\" class=\"row_heading level0 row2\" >154</th>\n",
       "      <td id=\"T_23261_row2_col0\" class=\"data row2 col0\" >15/03/25</td>\n",
       "      <td id=\"T_23261_row2_col1\" class=\"data row2 col1\" >Receita</td>\n",
       "      <td id=\"T_23261_row2_col2\" class=\"data row2 col2\" >R$ 75,00</td>\n",
       "    </tr>\n",
       "    <tr>\n",
       "      <th id=\"T_23261_level0_row3\" class=\"row_heading level0 row3\" >155</th>\n",
       "      <td id=\"T_23261_row3_col0\" class=\"data row3 col0\" >15/03/25</td>\n",
       "      <td id=\"T_23261_row3_col1\" class=\"data row3 col1\" >Despesa Combustivel</td>\n",
       "      <td id=\"T_23261_row3_col2\" class=\"data row3 col2\" >R$ 10,00</td>\n",
       "    </tr>\n",
       "    <tr>\n",
       "      <th id=\"T_23261_level0_row4\" class=\"row_heading level0 row4\" >156</th>\n",
       "      <td id=\"T_23261_row4_col0\" class=\"data row4 col0\" >16/03/25</td>\n",
       "      <td id=\"T_23261_row4_col1\" class=\"data row4 col1\" >Despesa Casa</td>\n",
       "      <td id=\"T_23261_row4_col2\" class=\"data row4 col2\" >R$ 150,00</td>\n",
       "    </tr>\n",
       "  </tbody>\n",
       "</table>\n"
      ],
      "text/plain": [
       "<pandas.io.formats.style.Styler at 0x13ef8c910d0>"
      ]
     },
     "execution_count": 7,
     "metadata": {},
     "output_type": "execute_result"
    }
   ],
   "source": [
    "df_dados.tail().style.set_caption(\"Ultimas 5 linhas do dataset\")"
   ]
  },
  {
   "cell_type": "code",
   "execution_count": 8,
   "id": "487f592f",
   "metadata": {},
   "outputs": [
    {
     "data": {
      "text/plain": [
       "'O dataset possui 157 linhas e 3 colunas.'"
      ]
     },
     "execution_count": 8,
     "metadata": {},
     "output_type": "execute_result"
    }
   ],
   "source": [
    "f\"O dataset possui {df_dados.shape[0]} linhas e {df_dados.shape[1]} colunas.\""
   ]
  },
  {
   "cell_type": "code",
   "execution_count": 11,
   "id": "8eacf238",
   "metadata": {},
   "outputs": [
    {
     "name": "stdout",
     "output_type": "stream",
     "text": [
      "- Data\n",
      "- Tipo Receita/Despesa\n",
      "- Valor\n"
     ]
    }
   ],
   "source": [
    "for col in df_dados.columns:\n",
    "    print(f\"- {col}\")"
   ]
  },
  {
   "cell_type": "code",
   "execution_count": 14,
   "id": "b595921e",
   "metadata": {},
   "outputs": [
    {
     "data": {
      "text/plain": [
       "Data                    object\n",
       "Tipo Receita/Despesa    object\n",
       "Valor                   object\n",
       "dtype: object"
      ]
     },
     "execution_count": 14,
     "metadata": {},
     "output_type": "execute_result"
    }
   ],
   "source": [
    "df_dados.dtypes"
   ]
  },
  {
   "cell_type": "code",
   "execution_count": 15,
   "id": "57f251bd",
   "metadata": {},
   "outputs": [
    {
     "name": "stdout",
     "output_type": "stream",
     "text": [
      "Informações gerais do dataset:\n",
      "<class 'pandas.core.frame.DataFrame'>\n",
      "RangeIndex: 157 entries, 0 to 156\n",
      "Data columns (total 3 columns):\n",
      " #   Column                Non-Null Count  Dtype \n",
      "---  ------                --------------  ----- \n",
      " 0   Data                  157 non-null    object\n",
      " 1   Tipo Receita/Despesa  157 non-null    object\n",
      " 2   Valor                 157 non-null    object\n",
      "dtypes: object(3)\n",
      "memory usage: 3.8+ KB\n"
     ]
    }
   ],
   "source": [
    "print(\"Informações gerais do dataset:\")\n",
    "df_dados.info()"
   ]
  }
 ],
 "metadata": {
  "kernelspec": {
   "display_name": "venv",
   "language": "python",
   "name": "python3"
  },
  "language_info": {
   "codemirror_mode": {
    "name": "ipython",
    "version": 3
   },
   "file_extension": ".py",
   "mimetype": "text/x-python",
   "name": "python",
   "nbconvert_exporter": "python",
   "pygments_lexer": "ipython3",
   "version": "3.11.1"
  }
 },
 "nbformat": 4,
 "nbformat_minor": 5
}
