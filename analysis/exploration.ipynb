{
 "cells": [
  {
   "cell_type": "code",
   "execution_count": 19,
   "id": "50c77bc5",
   "metadata": {},
   "outputs": [],
   "source": [
    "#Bibliotecas\n",
    "import pandas as pd\n",
    "import numpy as np\n",
    "import matplotlib.pyplot as plt\n",
    "import seaborn as sns\n",
    "import plotly.express as px\n",
    "from dotenv import load_dotenv\n",
    "import os\n",
    "import re"
   ]
  },
  {
   "cell_type": "markdown",
   "id": "78da7dd6",
   "metadata": {},
   "source": [
    "✅ Checklist Análise Exploratoria dos Dados (EDA)"
   ]
  },
  {
   "cell_type": "markdown",
   "id": "088422c8",
   "metadata": {},
   "source": [
    "1. **Visão Geral**"
   ]
  },
  {
   "cell_type": "code",
   "execution_count": 2,
   "id": "2763f013",
   "metadata": {},
   "outputs": [
    {
     "name": "stdout",
     "output_type": "stream",
     "text": [
      "Conectado ao Google Sheets com sucesso.\n"
     ]
    }
   ],
   "source": [
    "#Criando a conexao com a planilha do google\n",
    "try:\n",
    "    load_dotenv()  # Carrega as variáveis do .env\n",
    "    sheet_id = os.getenv('SHEET_ID')\n",
    "    sheet_name = os.getenv('SHEET_NAME')\n",
    "    url = f'https://docs.google.com/spreadsheets/d/{sheet_id}/gviz/tq?tqx=out:csv&sheet={sheet_name}'\n",
    "    print('Conectado ao Google Sheets com sucesso.')\n",
    "except Exception as e:\n",
    "    print(f\"Erro ao conectar com o Google Sheets: {e}\")\n"
   ]
  },
  {
   "cell_type": "code",
   "execution_count": 3,
   "id": "e8e388e9",
   "metadata": {},
   "outputs": [],
   "source": [
    "#Transformando os dados em um DataFrame\n",
    "df_dados = pd.read_csv(url)"
   ]
  },
  {
   "cell_type": "code",
   "execution_count": 4,
   "id": "f93a28a0",
   "metadata": {},
   "outputs": [],
   "source": [
    "df_dados['Categorias'] = df_dados['Categorias'].str.strip().str.title()"
   ]
  },
  {
   "cell_type": "code",
   "execution_count": 5,
   "id": "7201b8e9",
   "metadata": {},
   "outputs": [
    {
     "data": {
      "text/html": [
       "<style type=\"text/css\">\n",
       "</style>\n",
       "<table id=\"T_08f49\">\n",
       "  <caption>Primeiras 5 linhas do dataset</caption>\n",
       "  <thead>\n",
       "    <tr>\n",
       "      <th class=\"blank level0\" >&nbsp;</th>\n",
       "      <th id=\"T_08f49_level0_col0\" class=\"col_heading level0 col0\" >Data</th>\n",
       "      <th id=\"T_08f49_level0_col1\" class=\"col_heading level0 col1\" >Categorias</th>\n",
       "      <th id=\"T_08f49_level0_col2\" class=\"col_heading level0 col2\" >Valor</th>\n",
       "    </tr>\n",
       "  </thead>\n",
       "  <tbody>\n",
       "    <tr>\n",
       "      <th id=\"T_08f49_level0_row0\" class=\"row_heading level0 row0\" >0</th>\n",
       "      <td id=\"T_08f49_row0_col0\" class=\"data row0 col0\" >01/01/25</td>\n",
       "      <td id=\"T_08f49_row0_col1\" class=\"data row0 col1\" >Receita</td>\n",
       "      <td id=\"T_08f49_row0_col2\" class=\"data row0 col2\" >R$ 150,00</td>\n",
       "    </tr>\n",
       "    <tr>\n",
       "      <th id=\"T_08f49_level0_row1\" class=\"row_heading level0 row1\" >1</th>\n",
       "      <td id=\"T_08f49_row1_col0\" class=\"data row1 col0\" >02/01/25</td>\n",
       "      <td id=\"T_08f49_row1_col1\" class=\"data row1 col1\" >Receita</td>\n",
       "      <td id=\"T_08f49_row1_col2\" class=\"data row1 col2\" >R$ 120,00</td>\n",
       "    </tr>\n",
       "    <tr>\n",
       "      <th id=\"T_08f49_level0_row2\" class=\"row_heading level0 row2\" >2</th>\n",
       "      <td id=\"T_08f49_row2_col0\" class=\"data row2 col0\" >02/01/25</td>\n",
       "      <td id=\"T_08f49_row2_col1\" class=\"data row2 col1\" >Despesa Moto</td>\n",
       "      <td id=\"T_08f49_row2_col2\" class=\"data row2 col2\" >R$ 30,00</td>\n",
       "    </tr>\n",
       "    <tr>\n",
       "      <th id=\"T_08f49_level0_row3\" class=\"row_heading level0 row3\" >3</th>\n",
       "      <td id=\"T_08f49_row3_col0\" class=\"data row3 col0\" >02/01/25</td>\n",
       "      <td id=\"T_08f49_row3_col1\" class=\"data row3 col1\" >Despesa Combustivel</td>\n",
       "      <td id=\"T_08f49_row3_col2\" class=\"data row3 col2\" >R$ 25,00</td>\n",
       "    </tr>\n",
       "    <tr>\n",
       "      <th id=\"T_08f49_level0_row4\" class=\"row_heading level0 row4\" >4</th>\n",
       "      <td id=\"T_08f49_row4_col0\" class=\"data row4 col0\" >02/01/25</td>\n",
       "      <td id=\"T_08f49_row4_col1\" class=\"data row4 col1\" >Despesa Remedio</td>\n",
       "      <td id=\"T_08f49_row4_col2\" class=\"data row4 col2\" >R$ 65,00</td>\n",
       "    </tr>\n",
       "  </tbody>\n",
       "</table>\n"
      ],
      "text/plain": [
       "<pandas.io.formats.style.Styler at 0x1e22bded190>"
      ]
     },
     "execution_count": 5,
     "metadata": {},
     "output_type": "execute_result"
    }
   ],
   "source": [
    "df_dados.head().style.set_caption(\"Primeiras 5 linhas do dataset\")"
   ]
  },
  {
   "cell_type": "code",
   "execution_count": 6,
   "id": "c453b897",
   "metadata": {},
   "outputs": [
    {
     "data": {
      "text/html": [
       "<style type=\"text/css\">\n",
       "</style>\n",
       "<table id=\"T_a518c\">\n",
       "  <caption>5 linhas de amostras aleatorias do dataset</caption>\n",
       "  <thead>\n",
       "    <tr>\n",
       "      <th class=\"blank level0\" >&nbsp;</th>\n",
       "      <th id=\"T_a518c_level0_col0\" class=\"col_heading level0 col0\" >Data</th>\n",
       "      <th id=\"T_a518c_level0_col1\" class=\"col_heading level0 col1\" >Categorias</th>\n",
       "      <th id=\"T_a518c_level0_col2\" class=\"col_heading level0 col2\" >Valor</th>\n",
       "    </tr>\n",
       "  </thead>\n",
       "  <tbody>\n",
       "    <tr>\n",
       "      <th id=\"T_a518c_level0_row0\" class=\"row_heading level0 row0\" >143</th>\n",
       "      <td id=\"T_a518c_row0_col0\" class=\"data row0 col0\" >08/03/25</td>\n",
       "      <td id=\"T_a518c_row0_col1\" class=\"data row0 col1\" >Despesa Moto</td>\n",
       "      <td id=\"T_a518c_row0_col2\" class=\"data row0 col2\" >R$ 30,00</td>\n",
       "    </tr>\n",
       "    <tr>\n",
       "      <th id=\"T_a518c_level0_row1\" class=\"row_heading level0 row1\" >65</th>\n",
       "      <td id=\"T_a518c_row1_col0\" class=\"data row1 col0\" >29/01/25</td>\n",
       "      <td id=\"T_a518c_row1_col1\" class=\"data row1 col1\" >Despesa Casa</td>\n",
       "      <td id=\"T_a518c_row1_col2\" class=\"data row1 col2\" >R$ 140,00</td>\n",
       "    </tr>\n",
       "    <tr>\n",
       "      <th id=\"T_a518c_level0_row2\" class=\"row_heading level0 row2\" >24</th>\n",
       "      <td id=\"T_a518c_row2_col0\" class=\"data row2 col0\" >10/01/25</td>\n",
       "      <td id=\"T_a518c_row2_col1\" class=\"data row2 col1\" >Despesa Combustivel</td>\n",
       "      <td id=\"T_a518c_row2_col2\" class=\"data row2 col2\" >R$ 20,00</td>\n",
       "    </tr>\n",
       "    <tr>\n",
       "      <th id=\"T_a518c_level0_row3\" class=\"row_heading level0 row3\" >23</th>\n",
       "      <td id=\"T_a518c_row3_col0\" class=\"data row3 col0\" >10/01/25</td>\n",
       "      <td id=\"T_a518c_row3_col1\" class=\"data row3 col1\" >Receita</td>\n",
       "      <td id=\"T_a518c_row3_col2\" class=\"data row3 col2\" >R$ 110,00</td>\n",
       "    </tr>\n",
       "    <tr>\n",
       "      <th id=\"T_a518c_level0_row4\" class=\"row_heading level0 row4\" >222</th>\n",
       "      <td id=\"T_a518c_row4_col0\" class=\"data row4 col0\" >10/04/25</td>\n",
       "      <td id=\"T_a518c_row4_col1\" class=\"data row4 col1\" >Agua</td>\n",
       "      <td id=\"T_a518c_row4_col2\" class=\"data row4 col2\" >R$ 84,00</td>\n",
       "    </tr>\n",
       "  </tbody>\n",
       "</table>\n"
      ],
      "text/plain": [
       "<pandas.io.formats.style.Styler at 0x1e22c34f350>"
      ]
     },
     "execution_count": 6,
     "metadata": {},
     "output_type": "execute_result"
    }
   ],
   "source": [
    "df_dados.sample(5).style.set_caption(\"5 linhas de amostras aleatorias do dataset\")"
   ]
  },
  {
   "cell_type": "code",
   "execution_count": 7,
   "id": "470851f2",
   "metadata": {},
   "outputs": [
    {
     "data": {
      "text/html": [
       "<style type=\"text/css\">\n",
       "</style>\n",
       "<table id=\"T_07a91\">\n",
       "  <caption>Ultimas 5 linhas do dataset</caption>\n",
       "  <thead>\n",
       "    <tr>\n",
       "      <th class=\"blank level0\" >&nbsp;</th>\n",
       "      <th id=\"T_07a91_level0_col0\" class=\"col_heading level0 col0\" >Data</th>\n",
       "      <th id=\"T_07a91_level0_col1\" class=\"col_heading level0 col1\" >Categorias</th>\n",
       "      <th id=\"T_07a91_level0_col2\" class=\"col_heading level0 col2\" >Valor</th>\n",
       "    </tr>\n",
       "  </thead>\n",
       "  <tbody>\n",
       "    <tr>\n",
       "      <th id=\"T_07a91_level0_row0\" class=\"row_heading level0 row0\" >283</th>\n",
       "      <td id=\"T_07a91_row0_col0\" class=\"data row0 col0\" >11/05/25</td>\n",
       "      <td id=\"T_07a91_row0_col1\" class=\"data row0 col1\" >Despesa Moto</td>\n",
       "      <td id=\"T_07a91_row0_col2\" class=\"data row0 col2\" >R$ 15,00</td>\n",
       "    </tr>\n",
       "    <tr>\n",
       "      <th id=\"T_07a91_level0_row1\" class=\"row_heading level0 row1\" >284</th>\n",
       "      <td id=\"T_07a91_row1_col0\" class=\"data row1 col0\" >12/05/25</td>\n",
       "      <td id=\"T_07a91_row1_col1\" class=\"data row1 col1\" >Receita</td>\n",
       "      <td id=\"T_07a91_row1_col2\" class=\"data row1 col2\" >R$ 133,00</td>\n",
       "    </tr>\n",
       "    <tr>\n",
       "      <th id=\"T_07a91_level0_row2\" class=\"row_heading level0 row2\" >285</th>\n",
       "      <td id=\"T_07a91_row2_col0\" class=\"data row2 col0\" >12/05/25</td>\n",
       "      <td id=\"T_07a91_row2_col1\" class=\"data row2 col1\" >Despesa Combustivel</td>\n",
       "      <td id=\"T_07a91_row2_col2\" class=\"data row2 col2\" >R$ 30,00</td>\n",
       "    </tr>\n",
       "    <tr>\n",
       "      <th id=\"T_07a91_level0_row3\" class=\"row_heading level0 row3\" >286</th>\n",
       "      <td id=\"T_07a91_row3_col0\" class=\"data row3 col0\" >13/05/25</td>\n",
       "      <td id=\"T_07a91_row3_col1\" class=\"data row3 col1\" >Receita</td>\n",
       "      <td id=\"T_07a91_row3_col2\" class=\"data row3 col2\" >R$ 105,00</td>\n",
       "    </tr>\n",
       "    <tr>\n",
       "      <th id=\"T_07a91_level0_row4\" class=\"row_heading level0 row4\" >287</th>\n",
       "      <td id=\"T_07a91_row4_col0\" class=\"data row4 col0\" >13/05/25</td>\n",
       "      <td id=\"T_07a91_row4_col1\" class=\"data row4 col1\" >Despesa Combustivel</td>\n",
       "      <td id=\"T_07a91_row4_col2\" class=\"data row4 col2\" >R$ 25,00</td>\n",
       "    </tr>\n",
       "  </tbody>\n",
       "</table>\n"
      ],
      "text/plain": [
       "<pandas.io.formats.style.Styler at 0x1e22c3449d0>"
      ]
     },
     "execution_count": 7,
     "metadata": {},
     "output_type": "execute_result"
    }
   ],
   "source": [
    "df_dados.tail().style.set_caption(\"Ultimas 5 linhas do dataset\")"
   ]
  },
  {
   "cell_type": "code",
   "execution_count": 8,
   "id": "487f592f",
   "metadata": {},
   "outputs": [
    {
     "data": {
      "text/plain": [
       "'O dataset possui 288 linhas e 3 colunas.'"
      ]
     },
     "execution_count": 8,
     "metadata": {},
     "output_type": "execute_result"
    }
   ],
   "source": [
    "f\"O dataset possui {df_dados.shape[0]} linhas e {df_dados.shape[1]} colunas.\""
   ]
  },
  {
   "cell_type": "code",
   "execution_count": 9,
   "id": "8eacf238",
   "metadata": {},
   "outputs": [
    {
     "name": "stdout",
     "output_type": "stream",
     "text": [
      "- Data\n",
      "- Categorias\n",
      "- Valor\n"
     ]
    }
   ],
   "source": [
    "for col in df_dados.columns:\n",
    "    print(f\"- {col}\")"
   ]
  },
  {
   "cell_type": "code",
   "execution_count": 10,
   "id": "b595921e",
   "metadata": {},
   "outputs": [
    {
     "data": {
      "text/plain": [
       "Data          object\n",
       "Categorias    object\n",
       "Valor         object\n",
       "dtype: object"
      ]
     },
     "execution_count": 10,
     "metadata": {},
     "output_type": "execute_result"
    }
   ],
   "source": [
    "df_dados.dtypes"
   ]
  },
  {
   "cell_type": "code",
   "execution_count": 11,
   "id": "57f251bd",
   "metadata": {},
   "outputs": [
    {
     "name": "stdout",
     "output_type": "stream",
     "text": [
      "Informações gerais do dataset:\n",
      "<class 'pandas.core.frame.DataFrame'>\n",
      "RangeIndex: 288 entries, 0 to 287\n",
      "Data columns (total 3 columns):\n",
      " #   Column      Non-Null Count  Dtype \n",
      "---  ------      --------------  ----- \n",
      " 0   Data        288 non-null    object\n",
      " 1   Categorias  288 non-null    object\n",
      " 2   Valor       288 non-null    object\n",
      "dtypes: object(3)\n",
      "memory usage: 6.9+ KB\n"
     ]
    }
   ],
   "source": [
    "print(\"Informações gerais do dataset:\")\n",
    "df_dados.info()"
   ]
  },
  {
   "cell_type": "markdown",
   "id": "661a65ce",
   "metadata": {},
   "source": [
    "2. **Qualidade dos Dados**"
   ]
  },
  {
   "cell_type": "code",
   "execution_count": 30,
   "id": "68771255",
   "metadata": {},
   "outputs": [
    {
     "data": {
      "text/html": [
       "<div>\n",
       "<style scoped>\n",
       "    .dataframe tbody tr th:only-of-type {\n",
       "        vertical-align: middle;\n",
       "    }\n",
       "\n",
       "    .dataframe tbody tr th {\n",
       "        vertical-align: top;\n",
       "    }\n",
       "\n",
       "    .dataframe thead th {\n",
       "        text-align: right;\n",
       "    }\n",
       "</style>\n",
       "<table border=\"1\" class=\"dataframe\">\n",
       "  <thead>\n",
       "    <tr style=\"text-align: right;\">\n",
       "      <th></th>\n",
       "      <th>index</th>\n",
       "      <th>0</th>\n",
       "    </tr>\n",
       "  </thead>\n",
       "  <tbody>\n",
       "    <tr>\n",
       "      <th>0</th>\n",
       "      <td>Data</td>\n",
       "      <td>0.00%</td>\n",
       "    </tr>\n",
       "    <tr>\n",
       "      <th>1</th>\n",
       "      <td>Categorias</td>\n",
       "      <td>0.00%</td>\n",
       "    </tr>\n",
       "    <tr>\n",
       "      <th>2</th>\n",
       "      <td>Valor</td>\n",
       "      <td>0.00%</td>\n",
       "    </tr>\n",
       "  </tbody>\n",
       "</table>\n",
       "</div>"
      ],
      "text/plain": [
       "        index      0\n",
       "0        Data  0.00%\n",
       "1  Categorias  0.00%\n",
       "2       Valor  0.00%"
      ]
     },
     "execution_count": 30,
     "metadata": {},
     "output_type": "execute_result"
    }
   ],
   "source": [
    "#Funcao para formatar saida em percentual\n",
    "def format_percent(value):\n",
    "    return f'{100 * value:.2f}%'\n",
    "\n",
    "#Verificando se a valores nulos no DataFrame\n",
    "(df_dados.isna().sum() / len(df_dados)).sort_values(ascending=False).apply(format_percent).reset_index()"
   ]
  },
  {
   "cell_type": "code",
   "execution_count": 37,
   "id": "6f4a52e5",
   "metadata": {},
   "outputs": [
    {
     "data": {
      "text/plain": [
       "<function matplotlib.pyplot.show(close=None, block=None)>"
      ]
     },
     "execution_count": 37,
     "metadata": {},
     "output_type": "execute_result"
    },
    {
     "data": {
      "image/png": "[encoded data removed]",
      "text/plain": [
       "<Figure size 1800x800 with 1 Axes>"
      ]
     },
     "metadata": {},
     "output_type": "display_data"
    }
   ],
   "source": [
    "percent = (df_dados.isna().sum() / len(df_dados)).sort_values(ascending=False).reset_index()\n",
    "percent_data = pd.DataFrame(percent)\n",
    "percent_data.columns = ['Name', 'Percent_na']\n",
    "\n",
    "fig, ax = plt.subplots(figsize=(18, 8))\n",
    "sns.barplot(data=percent_data,\n",
    "            x='Name',\n",
    "            y='Percent_na')\n",
    "fig.suptitle('% de dados faltantes de cada coluna')\n",
    "plt.xticks(rotation=80)\n",
    "\n",
    "plt.show"
   ]
  },
  {
   "cell_type": "code",
   "execution_count": null,
   "id": "de8a3ebf",
   "metadata": {},
   "outputs": [
    {
     "data": {
      "text/plain": [
       "np.int64(0)"
      ]
     },
     "execution_count": 58,
     "metadata": {},
     "output_type": "execute_result"
    }
   ],
   "source": [
    "# Verifica se a valores duplicados no DataFrame\n",
    "df_dados.duplicated().sum()"
   ]
  },
  {
   "cell_type": "code",
   "execution_count": null,
   "id": "d994f53e",
   "metadata": {},
   "outputs": [
    {
     "data": {
      "text/html": [
       "<div>\n",
       "<style scoped>\n",
       "    .dataframe tbody tr th:only-of-type {\n",
       "        vertical-align: middle;\n",
       "    }\n",
       "\n",
       "    .dataframe tbody tr th {\n",
       "        vertical-align: top;\n",
       "    }\n",
       "\n",
       "    .dataframe thead th {\n",
       "        text-align: right;\n",
       "    }\n",
       "</style>\n",
       "<table border=\"1\" class=\"dataframe\">\n",
       "  <thead>\n",
       "    <tr style=\"text-align: right;\">\n",
       "      <th></th>\n",
       "      <th>Valores_unicos</th>\n",
       "    </tr>\n",
       "  </thead>\n",
       "  <tbody>\n",
       "    <tr>\n",
       "      <th>Data</th>\n",
       "      <td>114</td>\n",
       "    </tr>\n",
       "    <tr>\n",
       "      <th>Valor</th>\n",
       "      <td>42</td>\n",
       "    </tr>\n",
       "    <tr>\n",
       "      <th>Categorias</th>\n",
       "      <td>13</td>\n",
       "    </tr>\n",
       "  </tbody>\n",
       "</table>\n",
       "</div>"
      ],
      "text/plain": [
       "            Valores_unicos\n",
       "Data                   114\n",
       "Valor                   42\n",
       "Categorias              13"
      ]
     },
     "execution_count": 59,
     "metadata": {},
     "output_type": "execute_result"
    }
   ],
   "source": [
    "# Verificar se a valores unicos nas colunas do DataFrame\n",
    "df_dados.nunique().to_frame('Valores_unicos').sort_values(by='Valores_unicos', ascending=False) "
   ]
  },
  {
   "cell_type": "code",
   "execution_count": null,
   "id": "0c140946",
   "metadata": {},
   "outputs": [
    {
     "name": "stdout",
     "output_type": "stream",
     "text": [
      "<class 'pandas.core.frame.DataFrame'>\n",
      "RangeIndex: 261 entries, 0 to 260\n",
      "Data columns (total 3 columns):\n",
      " #   Column      Non-Null Count  Dtype \n",
      "---  ------      --------------  ----- \n",
      " 0   Data        261 non-null    object\n",
      " 1   Categorias  261 non-null    object\n",
      " 2   Valor       261 non-null    object\n",
      "dtypes: object(3)\n",
      "memory usage: 6.2+ KB\n"
     ]
    }
   ],
   "source": [
    "df_dados.info()#Informaçoes dos dados"
   ]
  },
  {
   "cell_type": "code",
   "execution_count": null,
   "id": "2fdc303e",
   "metadata": {},
   "outputs": [],
   "source": [
    "# Funcao para converter valores numericos para flutuante\n",
    "def clean_currency(value):\n",
    "    if pd.isna(value):# Se for NaN, retorna 0.0\n",
    "        return 0.0\n",
    "    if isinstance(value, str):# Remove \"R$\", espaços, pontos e mantém apenas números, \"-\" e \",\"\n",
    "        value = re.sub(r'[^\\d,.-]', '', value).replace(',', '.')\n",
    "        return float(value)\n",
    "\n",
    "# Aplica a função e converte a coluna para float    \n",
    "df_dados['Valor'] = df_dados['Valor'].apply(clean_currency).astype(float)"
   ]
  },
  {
   "cell_type": "code",
   "execution_count": null,
   "id": "8260e418",
   "metadata": {},
   "outputs": [
    {
     "name": "stderr",
     "output_type": "stream",
     "text": [
      "C:\\Users\\anton\\AppData\\Local\\Temp\\ipykernel_16124\\3671601269.py:1: UserWarning: Could not infer format, so each element will be parsed individually, falling back to `dateutil`. To ensure parsing is consistent and as-expected, please specify a format.\n",
      "  df_dados['Data'] = pd.to_datetime(df_dados['Data'], errors='coerce')\n"
     ]
    }
   ],
   "source": [
    "df_dados['Data'] = pd.to_datetime(df_dados['Data'], errors='coerce')"
   ]
  },
  {
   "cell_type": "code",
   "execution_count": null,
   "id": "0e8dc62c",
   "metadata": {},
   "outputs": [
    {
     "name": "stdout",
     "output_type": "stream",
     "text": [
      "<class 'pandas.core.frame.DataFrame'>\n",
      "RangeIndex: 261 entries, 0 to 260\n",
      "Data columns (total 3 columns):\n",
      " #   Column      Non-Null Count  Dtype         \n",
      "---  ------      --------------  -----         \n",
      " 0   Data        261 non-null    datetime64[ns]\n",
      " 1   Categorias  261 non-null    object        \n",
      " 2   Valor       261 non-null    float64       \n",
      "dtypes: datetime64[ns](1), float64(1), object(1)\n",
      "memory usage: 6.2+ KB\n"
     ]
    }
   ],
   "source": [
    "df_dados.info()"
   ]
  },
  {
   "cell_type": "code",
   "execution_count": null,
   "id": "807459cd",
   "metadata": {},
   "outputs": [
    {
     "name": "stdout",
     "output_type": "stream",
     "text": [
      "Coluna: Data\n",
      "<DatetimeArray>\n",
      "['2025-01-01 00:00:00', '2025-02-01 00:00:00', '2025-03-01 00:00:00',\n",
      " '2025-04-01 00:00:00', '2025-05-01 00:00:00', '2025-06-01 00:00:00',\n",
      " '2025-07-01 00:00:00', '2025-08-01 00:00:00', '2025-09-01 00:00:00',\n",
      " '2025-10-01 00:00:00',\n",
      " ...\n",
      " '2025-04-20 00:00:00', '2025-04-22 00:00:00', '2025-04-23 00:00:00',\n",
      " '2025-04-24 00:00:00', '2025-04-25 00:00:00', '2025-04-26 00:00:00',\n",
      " '2025-04-27 00:00:00', '2025-04-28 00:00:00', '2025-04-29 00:00:00',\n",
      " '2025-04-30 00:00:00']\n",
      "Length: 114, dtype: datetime64[ns]\n",
      "------------------------------\n",
      "Coluna: Categorias\n",
      "['Receita' 'Despesa Moto' 'Despesa Combustivel' 'Despesa Remedio'\n",
      " 'Despesa Casa' 'Faculdade' 'Grafnet' 'Plano' 'Agua' 'Natacao' 'Claro'\n",
      " 'Nubank' 'Luz']\n",
      "------------------------------\n",
      "Coluna: Valor\n",
      "[150. 120.  30.  25.  65. 130. 100.  15. 125.  20. 245. 112. 200.  84.\n",
      " 110.  60.  75.  10.  40. 105. 140. 257. 160. 170. 135.  80. 115.  45.\n",
      "  50. 138. 287.  70. 165.  85. 229.  66. 145.  32.  90.  67. 275.  28.]\n",
      "------------------------------\n"
     ]
    }
   ],
   "source": [
    "# Verificando se a string vazias no DataFrame\n",
    "for col in df_dados.columns:\n",
    "    print(f'Coluna: {col}')\n",
    "    print(df_dados[col].unique())\n",
    "    print('-' * 30)"
   ]
  }
 ],
 "metadata": {
  "kernelspec": {
   "display_name": "Python 3",
   "language": "python",
   "name": "python3"
  },
  "language_info": {
   "codemirror_mode": {
    "name": "ipython",
    "version": 3
   },
   "file_extension": ".py",
   "mimetype": "text/x-python",
   "name": "python",
   "nbconvert_exporter": "python",
   "pygments_lexer": "ipython3",
   "version": "3.11.1"
  }
 },
 "nbformat": 4,
 "nbformat_minor": 5
}
