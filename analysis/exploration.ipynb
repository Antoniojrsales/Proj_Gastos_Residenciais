{
 "cells": [
  {
   "cell_type": "code",
   "execution_count": 2,
   "id": "50c77bc5",
   "metadata": {},
   "outputs": [],
   "source": [
    "#Bibliotecas\n",
    "import pandas as pd\n",
    "import numpy as np\n",
    "import matplotlib.pyplot as plt\n",
    "import plotly.express as px\n",
    "from dotenv import load_dotenv\n",
    "import os"
   ]
  },
  {
   "cell_type": "markdown",
   "id": "78da7dd6",
   "metadata": {},
   "source": [
    "✅ Checklist de Exploração"
   ]
  },
  {
   "cell_type": "markdown",
   "id": "088422c8",
   "metadata": {},
   "source": [
    "1. **Visão Geral**"
   ]
  },
  {
   "cell_type": "code",
   "execution_count": 6,
   "id": "2763f013",
   "metadata": {},
   "outputs": [
    {
     "name": "stdout",
     "output_type": "stream",
     "text": [
      "Conectado ao Google Sheets com sucesso.\n"
     ]
    }
   ],
   "source": [
    "#Criando a conexao com a planilha do google\n",
    "try:\n",
    "    load_dotenv()  # Carrega as variáveis do .env\n",
    "    sheet_id = os.getenv('SHEET_ID')\n",
    "    sheet_name = os.getenv('SHEET_NAME')\n",
    "    url = f'https://docs.google.com/spreadsheets/d/{sheet_id}/gviz/tq?tqx=out:csv&sheet={sheet_name}'\n",
    "    print('Conectado ao Google Sheets com sucesso.')\n",
    "except Exception as e:\n",
    "    print(f\"Erro ao conectar com o Google Sheets: {e}\")\n"
   ]
  },
  {
   "cell_type": "code",
   "execution_count": 7,
   "id": "e8e388e9",
   "metadata": {},
   "outputs": [],
   "source": [
    "#Transformando os dados em um DataFrame\n",
    "df_dados = pd.read_csv(url)"
   ]
  },
  {
   "cell_type": "code",
   "execution_count": 8,
   "id": "7201b8e9",
   "metadata": {},
   "outputs": [
    {
     "data": {
      "text/html": [
       "<div>\n",
       "<style scoped>\n",
       "    .dataframe tbody tr th:only-of-type {\n",
       "        vertical-align: middle;\n",
       "    }\n",
       "\n",
       "    .dataframe tbody tr th {\n",
       "        vertical-align: top;\n",
       "    }\n",
       "\n",
       "    .dataframe thead th {\n",
       "        text-align: right;\n",
       "    }\n",
       "</style>\n",
       "<table border=\"1\" class=\"dataframe\">\n",
       "  <thead>\n",
       "    <tr style=\"text-align: right;\">\n",
       "      <th></th>\n",
       "      <th>Data</th>\n",
       "      <th>Tipo Receita/Despesa</th>\n",
       "      <th>Valor</th>\n",
       "    </tr>\n",
       "  </thead>\n",
       "  <tbody>\n",
       "    <tr>\n",
       "      <th>0</th>\n",
       "      <td>01/01/25</td>\n",
       "      <td>Receita</td>\n",
       "      <td>R$ 150,00</td>\n",
       "    </tr>\n",
       "    <tr>\n",
       "      <th>1</th>\n",
       "      <td>02/01/25</td>\n",
       "      <td>Receita</td>\n",
       "      <td>R$ 120,00</td>\n",
       "    </tr>\n",
       "    <tr>\n",
       "      <th>2</th>\n",
       "      <td>02/01/25</td>\n",
       "      <td>Despesa Moto</td>\n",
       "      <td>R$ 30,00</td>\n",
       "    </tr>\n",
       "    <tr>\n",
       "      <th>3</th>\n",
       "      <td>02/01/25</td>\n",
       "      <td>Despesa Combustivel</td>\n",
       "      <td>R$ 25,00</td>\n",
       "    </tr>\n",
       "    <tr>\n",
       "      <th>4</th>\n",
       "      <td>02/01/25</td>\n",
       "      <td>Despesa Remedio</td>\n",
       "      <td>R$ 65,00</td>\n",
       "    </tr>\n",
       "  </tbody>\n",
       "</table>\n",
       "</div>"
      ],
      "text/plain": [
       "       Data Tipo Receita/Despesa      Valor\n",
       "0  01/01/25              Receita  R$ 150,00\n",
       "1  02/01/25              Receita  R$ 120,00\n",
       "2  02/01/25         Despesa Moto   R$ 30,00\n",
       "3  02/01/25  Despesa Combustivel   R$ 25,00\n",
       "4  02/01/25      Despesa Remedio   R$ 65,00"
      ]
     },
     "execution_count": 8,
     "metadata": {},
     "output_type": "execute_result"
    }
   ],
   "source": [
    "df_dados.head()"
   ]
  }
 ],
 "metadata": {
  "kernelspec": {
   "display_name": "venv",
   "language": "python",
   "name": "python3"
  },
  "language_info": {
   "codemirror_mode": {
    "name": "ipython",
    "version": 3
   },
   "file_extension": ".py",
   "mimetype": "text/x-python",
   "name": "python",
   "nbconvert_exporter": "python",
   "pygments_lexer": "ipython3",
   "version": "3.11.1"
  }
 },
 "nbformat": 4,
 "nbformat_minor": 5
}
